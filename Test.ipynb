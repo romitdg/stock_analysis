{
 "cells": [
  {
   "cell_type": "code",
   "execution_count": 1,
   "id": "62ec47fc-ef3f-40c5-b0a1-ad35107978fa",
   "metadata": {},
   "outputs": [],
   "source": [
    "import numpy as np\n",
    "import pandas as pd\n",
    "import yfinance as yf\n",
    "from datetime import date, timedelta"
   ]
  },
  {
   "cell_type": "code",
   "execution_count": 2,
   "id": "65af2f7a-9439-4222-b193-765384060782",
   "metadata": {},
   "outputs": [],
   "source": [
    "def calculate_ema(data, window):\n",
    "    return data['Close'].ewm(span=window, adjust=False).mean()\n",
    "\n",
    "def get_ema_cross_stocks(symbol):\n",
    "    try:\n",
    "        # Fetch historical data using yfinance\n",
    "        stock_data = yf.download(symbol, start=date.today()-timedelta(days=500), end=date.today())\n",
    "\n",
    "        if stock_data.empty:\n",
    "            raise ValueError(f\"No data available for {symbol}\")\n",
    "\n",
    "        # Calculate 10-day and 20-day Exponential Moving Averages (EMA)\n",
    "        stock_data['ema_10'] = calculate_ema(stock_data, 10)\n",
    "        stock_data['ema_20'] = calculate_ema(stock_data, 20)\n",
    "\n",
    "        # Identify EMA cross\n",
    "        cross_signal = (stock_data['ema_10'] > stock_data['ema_20']) & (stock_data['ema_10'].shift(1) <= stock_data['ema_20'].shift(1))\n",
    "\n",
    "        # Filter dates with EMA cross in the last 5 days\n",
    "        recent_crosses = cross_signal.index[cross_signal][-1:]\n",
    "\n",
    "        return symbol, recent_crosses\n",
    "\n",
    "    except Exception as e:\n",
    "        print(f\"Error processing {symbol}: {e}\")\n",
    "        return symbol, None\n",
    "    \n",
    "    \n",
    "def get_market_cap(symbol):\n",
    "    company = yf.Ticker(symbol)\n",
    "    company_info = company.info\n",
    "    \n",
    "    company_dict = {'nse_symbol': symbol,\n",
    "                    'company': company_info['shortName'],\n",
    "                    'market_cap': company_info['marketCap']*1.0/10e7, \n",
    "                    'free_float': company_info['floatShares']*1.0/company_info['sharesOutstanding']}\n",
    "    return company_dict"
   ]
  },
  {
   "cell_type": "code",
   "execution_count": 6,
   "id": "27c5a979-635a-4b74-9bca-e81ab3994b2f",
   "metadata": {},
   "outputs": [
    {
     "name": "stdout",
     "output_type": "stream",
     "text": [
      "[*********************100%%**********************]  1 of 1 completed\n",
      "[*********************100%%**********************]  1 of 1 completed\n",
      "[*********************100%%**********************]  1 of 1 completed\n",
      "[*********************100%%**********************]  1 of 1 completed\n",
      "[*********************100%%**********************]  1 of 1 completed\n",
      "[*********************100%%**********************]  1 of 1 completed\n",
      "[*********************100%%**********************]  1 of 1 completed\n",
      "[*********************100%%**********************]  1 of 1 completed\n",
      "[*********************100%%**********************]  1 of 1 completed\n",
      "[*********************100%%**********************]  1 of 1 completed\n",
      "[*********************100%%**********************]  1 of 1 completed\n",
      "[*********************100%%**********************]  1 of 1 completed\n",
      "[*********************100%%**********************]  1 of 1 completed\n",
      "[*********************100%%**********************]  1 of 1 completed\n",
      "[*********************100%%**********************]  1 of 1 completed\n",
      "[*********************100%%**********************]  1 of 1 completed\n",
      "[*********************100%%**********************]  1 of 1 completed\n",
      "[*********************100%%**********************]  1 of 1 completed\n",
      "[*********************100%%**********************]  1 of 1 completed\n",
      "[*********************100%%**********************]  1 of 1 completed\n",
      "[*********************100%%**********************]  1 of 1 completed\n",
      "[*********************100%%**********************]  1 of 1 completed\n",
      "[*********************100%%**********************]  1 of 1 completed\n",
      "[*********************100%%**********************]  1 of 1 completed\n",
      "[*********************100%%**********************]  1 of 1 completed\n",
      "[*********************100%%**********************]  1 of 1 completed\n",
      "[*********************100%%**********************]  1 of 1 completed\n",
      "[*********************100%%**********************]  1 of 1 completed\n",
      "[*********************100%%**********************]  1 of 1 completed\n",
      "[*********************100%%**********************]  1 of 1 completed\n"
     ]
    },
    {
     "ename": "KeyError",
     "evalue": "'marketCap'",
     "output_type": "error",
     "traceback": [
      "\u001b[0;31m---------------------------------------------------------------------------\u001b[0m",
      "\u001b[0;31mKeyError\u001b[0m                                  Traceback (most recent call last)",
      "Cell \u001b[0;32mIn[6], line 10\u001b[0m\n\u001b[1;32m      8\u001b[0m \u001b[38;5;28;01mfor\u001b[39;00m symbol \u001b[38;5;129;01min\u001b[39;00m nse_names_list:\n\u001b[1;32m      9\u001b[0m     symbol, crosses \u001b[38;5;241m=\u001b[39m get_ema_cross_stocks(symbol)\n\u001b[0;32m---> 10\u001b[0m     company_info \u001b[38;5;241m=\u001b[39m \u001b[43mget_market_cap\u001b[49m\u001b[43m(\u001b[49m\u001b[43msymbol\u001b[49m\u001b[43m)\u001b[49m\n\u001b[1;32m     12\u001b[0m     \u001b[38;5;28;01mif\u001b[39;00m crosses \u001b[38;5;129;01mis\u001b[39;00m \u001b[38;5;129;01mnot\u001b[39;00m \u001b[38;5;28;01mNone\u001b[39;00m \u001b[38;5;129;01mand\u001b[39;00m \u001b[38;5;28mlen\u001b[39m(crosses) \u001b[38;5;241m>\u001b[39m \u001b[38;5;241m0\u001b[39m \u001b[38;5;129;01mand\u001b[39;00m crosses[\u001b[38;5;241m0\u001b[39m]\u001b[38;5;241m>\u001b[39mpd\u001b[38;5;241m.\u001b[39mTimestamp(\u001b[38;5;124m'\u001b[39m\u001b[38;5;124mnow\u001b[39m\u001b[38;5;124m'\u001b[39m)\u001b[38;5;241m.\u001b[39mfloor(\u001b[38;5;124m'\u001b[39m\u001b[38;5;124mD\u001b[39m\u001b[38;5;124m'\u001b[39m) \u001b[38;5;241m+\u001b[39m pd\u001b[38;5;241m.\u001b[39moffsets\u001b[38;5;241m.\u001b[39mDay(\u001b[38;5;241m-\u001b[39m\u001b[38;5;241m5\u001b[39m):\n\u001b[1;32m     13\u001b[0m         \u001b[38;5;28mprint\u001b[39m(\u001b[38;5;124mf\u001b[39m\u001b[38;5;124m\"\u001b[39m\u001b[38;5;132;01m{\u001b[39;00msymbol\u001b[38;5;132;01m}\u001b[39;00m\u001b[38;5;124m has EMA cross on \u001b[39m\u001b[38;5;132;01m{\u001b[39;00mcrosses[\u001b[38;5;241m0\u001b[39m]\u001b[38;5;241m.\u001b[39mdate()\u001b[38;5;132;01m}\u001b[39;00m\u001b[38;5;124m\"\u001b[39m)\n",
      "Cell \u001b[0;32mIn[2], line 35\u001b[0m, in \u001b[0;36mget_market_cap\u001b[0;34m(symbol)\u001b[0m\n\u001b[1;32m     30\u001b[0m company \u001b[38;5;241m=\u001b[39m yf\u001b[38;5;241m.\u001b[39mTicker(symbol)\n\u001b[1;32m     31\u001b[0m company_info \u001b[38;5;241m=\u001b[39m company\u001b[38;5;241m.\u001b[39minfo\n\u001b[1;32m     33\u001b[0m company_dict \u001b[38;5;241m=\u001b[39m {\u001b[38;5;124m'\u001b[39m\u001b[38;5;124mnse_symbol\u001b[39m\u001b[38;5;124m'\u001b[39m: symbol,\n\u001b[1;32m     34\u001b[0m                 \u001b[38;5;124m'\u001b[39m\u001b[38;5;124mcompany\u001b[39m\u001b[38;5;124m'\u001b[39m: company_info[\u001b[38;5;124m'\u001b[39m\u001b[38;5;124mshortName\u001b[39m\u001b[38;5;124m'\u001b[39m],\n\u001b[0;32m---> 35\u001b[0m                 \u001b[38;5;124m'\u001b[39m\u001b[38;5;124mmarket_cap\u001b[39m\u001b[38;5;124m'\u001b[39m: \u001b[43mcompany_info\u001b[49m\u001b[43m[\u001b[49m\u001b[38;5;124;43m'\u001b[39;49m\u001b[38;5;124;43mmarketCap\u001b[39;49m\u001b[38;5;124;43m'\u001b[39;49m\u001b[43m]\u001b[49m\u001b[38;5;241m*\u001b[39m\u001b[38;5;241m1.0\u001b[39m\u001b[38;5;241m/\u001b[39m\u001b[38;5;241m10e7\u001b[39m, \n\u001b[1;32m     36\u001b[0m                 \u001b[38;5;124m'\u001b[39m\u001b[38;5;124mfree_float\u001b[39m\u001b[38;5;124m'\u001b[39m: company_info[\u001b[38;5;124m'\u001b[39m\u001b[38;5;124mfloatShares\u001b[39m\u001b[38;5;124m'\u001b[39m]\u001b[38;5;241m*\u001b[39m\u001b[38;5;241m1.0\u001b[39m\u001b[38;5;241m/\u001b[39mcompany_info[\u001b[38;5;124m'\u001b[39m\u001b[38;5;124msharesOutstanding\u001b[39m\u001b[38;5;124m'\u001b[39m]}\n\u001b[1;32m     37\u001b[0m \u001b[38;5;28;01mreturn\u001b[39;00m company_dict\n",
      "\u001b[0;31mKeyError\u001b[0m: 'marketCap'"
     ]
    }
   ],
   "source": [
    "nse_names = pd.read_csv('EQUITY_L.csv')\n",
    "\n",
    "nse_names['SYMBOL_UPTD'] = nse_names['SYMBOL'].map(lambda x : str(x) + '.NS')\n",
    "\n",
    "nse_names_list = list(set(nse_names['SYMBOL_UPTD'].tolist()))\n",
    "\n",
    "ema_list = []\n",
    "for symbol in nse_names_list:\n",
    "    symbol, crosses = get_ema_cross_stocks(symbol)\n",
    "    company_info = get_market_cap(symbol)\n",
    "    \n",
    "    if crosses is not None and len(crosses) > 0 and crosses[0]>pd.Timestamp('now').floor('D') + pd.offsets.Day(-5):\n",
    "        print(f\"{symbol} has EMA cross on {crosses[0].date()}\")\n",
    "        company_info['EMA_Cross_Date'] = crosses[0].date()\n",
    "        ema_list += [company_info]\n",
    "    #elif crosses is not None:\n",
    "     # print(f\"{symbol} doesn't have EMA cross in the last 5 days.\")\n",
    "df = pd.DataFrame(ema_list)\n",
    "df_sorted = df.sort_values(by='EMA_Cross_Date',ascending=False)\n",
    "df_sorted=df_sorted.reset_index(drop=True)\n",
    "# df_sorted.to_csv('EMA Cross.csv', index=False)"
   ]
  },
  {
   "cell_type": "code",
   "execution_count": 5,
   "id": "bd9b67db-e400-4136-9b40-2a26e3190045",
   "metadata": {},
   "outputs": [
    {
     "data": {
      "text/html": [
       "<div>\n",
       "<style scoped>\n",
       "    .dataframe tbody tr th:only-of-type {\n",
       "        vertical-align: middle;\n",
       "    }\n",
       "\n",
       "    .dataframe tbody tr th {\n",
       "        vertical-align: top;\n",
       "    }\n",
       "\n",
       "    .dataframe thead th {\n",
       "        text-align: right;\n",
       "    }\n",
       "</style>\n",
       "<table border=\"1\" class=\"dataframe\">\n",
       "  <thead>\n",
       "    <tr style=\"text-align: right;\">\n",
       "      <th></th>\n",
       "    </tr>\n",
       "  </thead>\n",
       "  <tbody>\n",
       "  </tbody>\n",
       "</table>\n",
       "</div>"
      ],
      "text/plain": [
       "Empty DataFrame\n",
       "Columns: []\n",
       "Index: []"
      ]
     },
     "execution_count": 5,
     "metadata": {},
     "output_type": "execute_result"
    }
   ],
   "source": [
    "df.head()"
   ]
  },
  {
   "cell_type": "code",
   "execution_count": null,
   "id": "6a76cec7-f80e-4248-99f7-89a75f978a17",
   "metadata": {},
   "outputs": [],
   "source": []
  }
 ],
 "metadata": {
  "kernelspec": {
   "display_name": "py310",
   "language": "python",
   "name": "py310"
  },
  "language_info": {
   "codemirror_mode": {
    "name": "ipython",
    "version": 3
   },
   "file_extension": ".py",
   "mimetype": "text/x-python",
   "name": "python",
   "nbconvert_exporter": "python",
   "pygments_lexer": "ipython3",
   "version": "3.10.4"
  }
 },
 "nbformat": 4,
 "nbformat_minor": 5
}
